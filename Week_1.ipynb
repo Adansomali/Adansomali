{
  "nbformat": 4,
  "nbformat_minor": 0,
  "metadata": {
    "colab": {
      "provenance": [],
      "toc_visible": true,
      "authorship_tag": "ABX9TyOw7HxqTy64vhfXycQVglYg",
      "include_colab_link": true
    },
    "kernelspec": {
      "name": "python3",
      "display_name": "Python 3"
    },
    "language_info": {
      "name": "python"
    }
  },
  "cells": [
    {
      "cell_type": "markdown",
      "metadata": {
        "id": "view-in-github",
        "colab_type": "text"
      },
      "source": [
        "<a href=\"https://colab.research.google.com/github/Adansomali/Adansomali/blob/main/Week_1.ipynb\" target=\"_parent\"><img src=\"https://colab.research.google.com/assets/colab-badge.svg\" alt=\"Open In Colab\"/></a>"
      ]
    },
    {
      "cell_type": "code",
      "execution_count": 3,
      "metadata": {
        "colab": {
          "base_uri": "https://localhost:8080/"
        },
        "id": "D5MMUlJY-du1",
        "outputId": "30a1df3f-354d-4c18-98b8-dc3d9433c128"
      },
      "outputs": [
        {
          "output_type": "stream",
          "name": "stdout",
          "text": [
            "3\n"
          ]
        }
      ],
      "source": [
        "a = 1\n",
        "b = 2\n",
        "print(a+b)"
      ]
    },
    {
      "cell_type": "code",
      "source": [
        "a"
      ],
      "metadata": {
        "colab": {
          "base_uri": "https://localhost:8080/"
        },
        "id": "YCxu05OB_NEq",
        "outputId": "81e205f7-b391-43b3-a0f4-225d05921e1b"
      },
      "execution_count": 4,
      "outputs": [
        {
          "output_type": "execute_result",
          "data": {
            "text/plain": [
              "1"
            ]
          },
          "metadata": {},
          "execution_count": 4
        }
      ]
    },
    {
      "cell_type": "markdown",
      "source": [
        "# Set up propertion\n",
        " n1/d1 = n2/d2"
      ],
      "metadata": {
        "id": "Ns56GX_VFtTt"
      }
    },
    {
      "cell_type": "code",
      "source": [
        "# put  a zero for unknow values\n",
        "n1 = 1\n",
        "d1 = 2\n",
        "n2 = 0\n",
        "d2 = 16\n",
        "if n2 == 0:\n",
        "   answer = d2*n1/d1\n",
        "   print(\"n2 =0\",answer)\n",
        "if d2 == 0:\n",
        "  answer = d1*n2/n1\n",
        "  print(\"d2 =0\",answer)"
      ],
      "metadata": {
        "colab": {
          "base_uri": "https://localhost:8080/"
        },
        "id": "lLSeMzp1AH-Q",
        "outputId": "b469c210-34b0-4af3-97a5-4b36f9a7ac99"
      },
      "execution_count": 5,
      "outputs": [
        {
          "output_type": "stream",
          "name": "stdout",
          "text": [
            "n2 =0 8.0\n"
          ]
        }
      ]
    }
  ]
}