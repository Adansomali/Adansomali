{
  "nbformat": 4,
  "nbformat_minor": 0,
  "metadata": {
    "colab": {
      "provenance": [],
      "toc_visible": true,
      "authorship_tag": "ABX9TyNO2nlhv2+qVXMNpPD9lvKn",
      "include_colab_link": true
    },
    "kernelspec": {
      "name": "python3",
      "display_name": "Python 3"
    },
    "language_info": {
      "name": "python"
    }
  },
  "cells": [
    {
      "cell_type": "markdown",
      "metadata": {
        "id": "view-in-github",
        "colab_type": "text"
      },
      "source": [
        "<a href=\"https://colab.research.google.com/github/Adansomali/Adansomali/blob/main/Week_1.ipynb\" target=\"_parent\"><img src=\"https://colab.research.google.com/assets/colab-badge.svg\" alt=\"Open In Colab\"/></a>"
      ]
    },
    {
      "cell_type": "code",
      "execution_count": 3,
      "metadata": {
        "colab": {
          "base_uri": "https://localhost:8080/"
        },
        "id": "D5MMUlJY-du1",
        "outputId": "30a1df3f-354d-4c18-98b8-dc3d9433c128"
      },
      "outputs": [
        {
          "output_type": "stream",
          "name": "stdout",
          "text": [
            "3\n"
          ]
        }
      ],
      "source": [
        "a = 1\n",
        "b = 2\n",
        "print(a+b)"
      ]
    },
    {
      "cell_type": "code",
      "source": [
        "a"
      ],
      "metadata": {
        "colab": {
          "base_uri": "https://localhost:8080/"
        },
        "id": "YCxu05OB_NEq",
        "outputId": "81e205f7-b391-43b3-a0f4-225d05921e1b"
      },
      "execution_count": 4,
      "outputs": [
        {
          "output_type": "execute_result",
          "data": {
            "text/plain": [
              "1"
            ]
          },
          "metadata": {},
          "execution_count": 4
        }
      ]
    },
    {
      "cell_type": "markdown",
      "source": [
        "# Set up propertion\n",
        " ## A proportion is an equation that states two ratios or fractions are equal. Proportions are commonly used in math to solve problems involving scaling, percentages, and comparisons.\n",
        "## Basic Proportion Format The general form of a proportion is:\n",
        "b *\n",
        "a\n",
        "​\n",
        " =\n",
        "d*\n",
        "c\n",
        "\n",
        "\n"
      ],
      "metadata": {
        "id": "Ns56GX_VFtTt"
      }
    },
    {
      "cell_type": "code",
      "source": [
        "# Solving proportion 3/4 = x/12\n",
        "\n",
        "a = 3\n",
        "b = 4\n",
        "c = 12\n",
        "\n",
        "# Cross-multiplying and solving for x\n",
        "x = (a * c) / b\n",
        "\n",
        "print(f\"Value of x: {x}\")\n"
      ],
      "metadata": {
        "colab": {
          "base_uri": "https://localhost:8080/"
        },
        "id": "Ufrtv31WNoI-",
        "outputId": "13ddbdc4-1ff5-474d-c7b4-ae3db13f5b18"
      },
      "execution_count": 7,
      "outputs": [
        {
          "output_type": "stream",
          "name": "stdout",
          "text": [
            "Value of x: 9.0\n"
          ]
        }
      ]
    },
    {
      "cell_type": "code",
      "source": [
        "# Solving proportion for apples: 5 apples cost $10, how much for 8 apples?\n",
        "\n",
        "a = 5  # 5 apples\n",
        "b = 10  # $10\n",
        "c = 8  # 8 apples\n",
        "\n",
        "# Cross-multiplying and solving for x (cost for 8 apples)\n",
        "cost = (b * c) / a\n",
        "\n",
        "print(f\"Cost for 8 apples: ${cost}\")\n"
      ],
      "metadata": {
        "colab": {
          "base_uri": "https://localhost:8080/"
        },
        "id": "RyVIUGebOdHA",
        "outputId": "1c49b4d6-2e80-4d39-8350-76ec716d67d9"
      },
      "execution_count": 8,
      "outputs": [
        {
          "output_type": "stream",
          "name": "stdout",
          "text": [
            "Cost for 8 apples: $16.0\n"
          ]
        }
      ]
    },
    {
      "cell_type": "code",
      "source": [
        "# Finding 30% of 50\n",
        "\n",
        "percentage = 30\n",
        "total = 50\n",
        "\n",
        "# Solving using proportion (30/100 = x/50)\n",
        "result = (percentage * total) / 100\n",
        "\n",
        "print(f\"30% of 50 is: {result}\")\n"
      ],
      "metadata": {
        "colab": {
          "base_uri": "https://localhost:8080/"
        },
        "id": "aUgyyH_OOro6",
        "outputId": "b4606602-2994-4880-a3a9-c995528a3c12"
      },
      "execution_count": 9,
      "outputs": [
        {
          "output_type": "stream",
          "name": "stdout",
          "text": [
            "30% of 50 is: 15.0\n"
          ]
        }
      ]
    },
    {
      "cell_type": "code",
      "source": [
        "# Solving proportion for a map: 1 inch = 5 miles, find the real distance for 3 inches on the map\n",
        "\n",
        "inches_on_map = 3\n",
        "miles_per_inch = 5\n",
        "\n",
        "# Solving the proportion (1/5 = 3/x)\n",
        "real_distance = inches_on_map * miles_per_inch\n",
        "\n",
        "print(f\"Real distance: {real_distance} miles\")\n"
      ],
      "metadata": {
        "colab": {
          "base_uri": "https://localhost:8080/"
        },
        "id": "A4mO_EMYO86C",
        "outputId": "d5be8ead-9730-4aed-c35a-a7d22dc260b4"
      },
      "execution_count": 10,
      "outputs": [
        {
          "output_type": "stream",
          "name": "stdout",
          "text": [
            "Real distance: 15 miles\n"
          ]
        }
      ]
    }
  ]
}